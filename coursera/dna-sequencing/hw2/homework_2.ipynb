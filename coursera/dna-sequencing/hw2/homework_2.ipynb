{
 "cells": [
  {
   "cell_type": "markdown",
   "metadata": {},
   "source": [
    "## Prepare"
   ]
  },
  {
   "cell_type": "code",
   "execution_count": 126,
   "metadata": {},
   "outputs": [
    {
     "name": "stdout",
     "output_type": "stream",
     "text": [
      "--2018-07-30 15:58:20--  http://d28rh4a8wq0iu5.cloudfront.net/ads1/code/bm_preproc.py\n",
      "Resolving d28rh4a8wq0iu5.cloudfront.net (d28rh4a8wq0iu5.cloudfront.net)... 54.182.2.254, 54.182.2.101, 54.182.2.68, ...\n",
      "Connecting to d28rh4a8wq0iu5.cloudfront.net (d28rh4a8wq0iu5.cloudfront.net)|54.182.2.254|:80... connected.\n",
      "HTTP request sent, awaiting response... 200 OK\n",
      "Length: 9400 (9.2K) [application/octet-stream]\n",
      "Saving to: <<bm_preproc.py.1>>\n",
      "\n",
      "bm_preproc.py.1     100%[===================>]   9.18K  --.-KB/s    in 0s      \n",
      "\n",
      "2018-07-30 15:58:20 (89.6 MB/s) - <<bm_preproc.py.1>> saved [9400/9400]\n",
      "\n"
     ]
    }
   ],
   "source": [
    "!wget http://d28rh4a8wq0iu5.cloudfront.net/ads1/code/bm_preproc.py"
   ]
  },
  {
   "cell_type": "code",
   "execution_count": 127,
   "metadata": {},
   "outputs": [],
   "source": [
    "from bm_preproc import BoyerMoore"
   ]
  },
  {
   "cell_type": "code",
   "execution_count": 128,
   "metadata": {},
   "outputs": [],
   "source": [
    "def boyer_moore(p, p_bm, t):\n",
    "    \"\"\" Do Boyer-Moore matching. p=pattern, t=text,\n",
    "        p_bm=BoyerMoore object for p \"\"\"\n",
    "    i = 0\n",
    "    occurrences = []\n",
    "    while i < len(t) - len(p) + 1:\n",
    "        shift = 1\n",
    "        mismatched = False\n",
    "        for j in range(len(p)-1, -1, -1):\n",
    "            if p[j] != t[i+j]:\n",
    "                skip_bc = p_bm.bad_character_rule(j, t[i+j])\n",
    "                skip_gs = p_bm.good_suffix_rule(j)\n",
    "                shift = max(shift, skip_bc, skip_gs)\n",
    "                mismatched = True\n",
    "                break\n",
    "        if not mismatched:\n",
    "            occurrences.append(i)\n",
    "            skip_gs = p_bm.match_skip()\n",
    "            shift = max(shift, skip_gs)\n",
    "        i += shift\n",
    "    return occurrences"
   ]
  },
  {
   "cell_type": "code",
   "execution_count": 129,
   "metadata": {},
   "outputs": [
    {
     "name": "stdout",
     "output_type": "stream",
     "text": [
      "--2018-07-30 15:58:26--  http://d28rh4a8wq0iu5.cloudfront.net/ads1/data/chr1.GRCh38.excerpt.fasta\n",
      "Resolving d28rh4a8wq0iu5.cloudfront.net (d28rh4a8wq0iu5.cloudfront.net)... 54.182.2.254, 54.182.2.101, 54.182.2.68, ...\n",
      "Connecting to d28rh4a8wq0iu5.cloudfront.net (d28rh4a8wq0iu5.cloudfront.net)|54.182.2.254|:80... connected.\n",
      "HTTP request sent, awaiting response... 200 OK\n",
      "Length: 810105 (791K) [application/octet-stream]\n",
      "Saving to: <<chr1.GRCh38.excerpt.fasta.1>>\n",
      "\n",
      "chr1.GRCh38.excerpt 100%[===================>] 791.12K   124KB/s    in 6.7s    \n",
      "\n",
      "2018-07-30 15:58:33 (118 KB/s) - <<chr1.GRCh38.excerpt.fasta.1>> saved [810105/810105]\n",
      "\n"
     ]
    }
   ],
   "source": [
    "!wget http://d28rh4a8wq0iu5.cloudfront.net/ads1/data/chr1.GRCh38.excerpt.fasta"
   ]
  },
  {
   "cell_type": "code",
   "execution_count": 130,
   "metadata": {},
   "outputs": [],
   "source": [
    "def readGenome(filename):\n",
    "    genome = ''\n",
    "    with open(filename, 'r') as f:\n",
    "        for line in f:\n",
    "            # ignore header line with genome information\n",
    "            if not line[0] == '>':\n",
    "                genome += line.rstrip()\n",
    "    return genome\n",
    "\n",
    "def reverseComplement(s):\n",
    "    complement = {'A': 'T', 'C': 'G', 'G': 'C', 'T': 'A', 'N': 'N'}\n",
    "    t = ''\n",
    "    for base in s:\n",
    "        t = complement[base] + t\n",
    "    return t\n",
    "\n",
    "def naive(p, t):\n",
    "    occurrences = []\n",
    "    for i in range(len(t) - len(p) + 1):\n",
    "        match = True\n",
    "        for j in range(len(p)):\n",
    "            if t[i+j] != p[j]:\n",
    "                match = False\n",
    "                break\n",
    "        if match:\n",
    "            occurrences.append(i)\n",
    "    return occurrences"
   ]
  },
  {
   "cell_type": "code",
   "execution_count": 131,
   "metadata": {},
   "outputs": [],
   "source": [
    "def naive_with_count(p, t):\n",
    "    occurrences = []\n",
    "    alignments = 0\n",
    "    comparisons = 0\n",
    "    for i in range(len(t) - len(p) + 1):\n",
    "        match = True\n",
    "        alignments += 1\n",
    "        for j in range(len(p)):\n",
    "            comparisons += 1\n",
    "            if t[i+j] != p[j]:\n",
    "                match = False\n",
    "                break\n",
    "        if match:\n",
    "            occurrences.append(i)\n",
    "    return occurrences, alignments, comparisons\n",
    "\n",
    "def boyer_moore_with_count(p, p_bm, t):\n",
    "    \"\"\" Do Boyer-Moore matching. p=pattern, t=text,\n",
    "        p_bm=BoyerMoore object for p \"\"\"\n",
    "    i = 0\n",
    "    occurrences = []\n",
    "    alignments = 0\n",
    "    comparisons = 0\n",
    "    while i < len(t) - len(p) + 1:\n",
    "        shift = 1\n",
    "        mismatched = False\n",
    "        alignments += 1\n",
    "        for j in range(len(p)-1, -1, -1):\n",
    "            comparisons += 1\n",
    "            if p[j] != t[i+j]:\n",
    "                skip_bc = p_bm.bad_character_rule(j, t[i+j])\n",
    "                skip_gs = p_bm.good_suffix_rule(j)\n",
    "                shift = max(shift, skip_bc, skip_gs)\n",
    "                mismatched = True\n",
    "                break\n",
    "        if not mismatched:\n",
    "            occurrences.append(i)\n",
    "            skip_gs = p_bm.match_skip()\n",
    "            shift = max(shift, skip_gs)\n",
    "        i += shift\n",
    "    return occurrences, alignments, comparisons"
   ]
  },
  {
   "cell_type": "code",
   "execution_count": 132,
   "metadata": {},
   "outputs": [],
   "source": [
    "chr1 = readGenome('chr1.GRCh38.excerpt.fasta')"
   ]
  },
  {
   "cell_type": "markdown",
   "metadata": {},
   "source": [
    "## Questions"
   ]
  },
  {
   "cell_type": "code",
   "execution_count": 133,
   "metadata": {},
   "outputs": [
    {
     "name": "stdout",
     "output_type": "stream",
     "text": [
      "799954\n"
     ]
    }
   ],
   "source": [
    "print naive_with_count('GGCGCGGTGGCTCACGCCTGTAATCCCAGCACTTTGGGAGGCCGAGG', chr1)[1]"
   ]
  },
  {
   "cell_type": "code",
   "execution_count": 22,
   "metadata": {},
   "outputs": [
    {
     "name": "stdout",
     "output_type": "stream",
     "text": [
      "984143\n"
     ]
    }
   ],
   "source": [
    "print naive_with_count('GGCGCGGTGGCTCACGCCTGTAATCCCAGCACTTTGGGAGGCCGAGG', chr1)[2]"
   ]
  },
  {
   "cell_type": "code",
   "execution_count": 134,
   "metadata": {},
   "outputs": [
    {
     "name": "stdout",
     "output_type": "stream",
     "text": [
      "127974\n"
     ]
    }
   ],
   "source": [
    "p = 'GGCGCGGTGGCTCACGCCTGTAATCCCAGCACTTTGGGAGGCCGAGG'\n",
    "p_bm = BoyerMoore(p)\n",
    "print boyer_moore_with_count(p, p_bm, chr1)[1]"
   ]
  },
  {
   "cell_type": "code",
   "execution_count": 1,
   "metadata": {},
   "outputs": [
    {
     "name": "stdout",
     "output_type": "stream",
     "text": [
      "--2018-07-30 13:20:51--  https://d28rh4a8wq0iu5.cloudfront.net/ads1/code/kmer_index.py\n",
      "Resolving d28rh4a8wq0iu5.cloudfront.net (d28rh4a8wq0iu5.cloudfront.net)... 54.182.2.254, 54.182.2.12, 54.182.2.101, ...\n",
      "Connecting to d28rh4a8wq0iu5.cloudfront.net (d28rh4a8wq0iu5.cloudfront.net)|54.182.2.254|:443... connected.\n",
      "HTTP request sent, awaiting response... 200 OK\n",
      "Length: 971 [application/octet-stream]\n",
      "Saving to: <<kmer_index.py>>\n",
      "\n",
      "kmer_index.py       100%[===================>]     971  --.-KB/s    in 0s      \n",
      "\n",
      "2018-07-30 13:20:53 (34.3 MB/s) - <<kmer_index.py>> saved [971/971]\n",
      "\n"
     ]
    }
   ],
   "source": [
    "!wget https://d28rh4a8wq0iu5.cloudfront.net/ads1/code/kmer_index.py"
   ]
  },
  {
   "cell_type": "code",
   "execution_count": 41,
   "metadata": {},
   "outputs": [],
   "source": [
    "from kmer_index import Index\n",
    "index = Index(chr1, 8)"
   ]
  },
  {
   "cell_type": "code",
   "execution_count": 122,
   "metadata": {},
   "outputs": [
    {
     "name": "stdout",
     "output_type": "stream",
     "text": [
      "56922\n",
      "0\n",
      "GGCGCGGTGGCTCACGCCTGTAAT\n",
      "GGCGCGGTGGCTCACGCCTGTAAT\n",
      "\n",
      "84641\n",
      "1\n",
      "GGCGCGGTGGCTCACGCCTGTAAT\n",
      "GGCGCGGTGGCTCATGCCTGTAAT\n",
      "\n",
      "147558\n",
      "1\n",
      "GGCGCGGTGGCTCACGCCTGTAAT\n",
      "GGCGCGGTGGCTCATGCCTGTAAT\n",
      "\n",
      "160729\n",
      "1\n",
      "GGCGCGGTGGCTCACGCCTGTAAT\n",
      "GGCGCGGTGGCTCACACCTGTAAT\n",
      "\n",
      "191452\n",
      "1\n",
      "GGCGCGGTGGCTCACGCCTGTAAT\n",
      "GGCGCGGTGGTTCACGCCTGTAAT\n",
      "\n",
      "262042\n",
      "0\n",
      "GGCGCGGTGGCTCACGCCTGTAAT\n",
      "GGCGCGGTGGCTCACGCCTGTAAT\n",
      "\n",
      "364263\n",
      "0\n",
      "GGCGCGGTGGCTCACGCCTGTAAT\n",
      "GGCGCGGTGGCTCACGCCTGTAAT\n",
      "\n",
      "657496\n",
      "0\n",
      "GGCGCGGTGGCTCACGCCTGTAAT\n",
      "GGCGCGGTGGCTCACGCCTGTAAT\n",
      "\n",
      "681737\n",
      "1\n",
      "GGCGCGGTGGCTCACGCCTGTAAT\n",
      "GGCGCGGTGGCTCATGCCTGTAAT\n",
      "\n",
      "717706\n",
      "0\n",
      "GGCGCGGTGGCTCACGCCTGTAAT\n",
      "GGCGCGGTGGCTCACGCCTGTAAT\n",
      "\n",
      "56922\n",
      "0\n",
      "GGCGCGGTGGCTCACGCCTGTAAT\n",
      "GGCGCGGTGGCTCACGCCTGTAAT\n",
      "\n",
      "160162\n",
      "2\n",
      "GGCGCGGTGGCTCACGCCTGTAAT\n",
      "GGCACGGTGGCTCACGCATGTAAT\n",
      "\n",
      "262042\n",
      "0\n",
      "GGCGCGGTGGCTCACGCCTGTAAT\n",
      "GGCGCGGTGGCTCACGCCTGTAAT\n",
      "\n",
      "273669\n",
      "1\n",
      "GGCGCGGTGGCTCACGCCTGTAAT\n",
      "GGTGCGGTGGCTCACGCCTGTAAT\n",
      "\n",
      "364263\n",
      "0\n",
      "GGCGCGGTGGCTCACGCCTGTAAT\n",
      "GGCGCGGTGGCTCACGCCTGTAAT\n",
      "\n",
      "421221\n",
      "2\n",
      "GGCGCGGTGGCTCACGCCTGTAAT\n",
      "GGCGCAATGGCTCACGCCTGTAAT\n",
      "\n",
      "429299\n",
      "1\n",
      "GGCGCGGTGGCTCACGCCTGTAAT\n",
      "AGCGCGGTGGCTCACGCCTGTAAT\n",
      "\n",
      "465647\n",
      "1\n",
      "GGCGCGGTGGCTCACGCCTGTAAT\n",
      "GGCGCAGTGGCTCACGCCTGTAAT\n",
      "\n",
      "551134\n",
      "2\n",
      "GGCGCGGTGGCTCACGCCTGTAAT\n",
      "GGGCCGGTGGCTCACGCCTGTAAT\n",
      "\n",
      "657496\n",
      "0\n",
      "GGCGCGGTGGCTCACGCCTGTAAT\n",
      "GGCGCGGTGGCTCACGCCTGTAAT\n",
      "\n",
      "717706\n",
      "0\n",
      "GGCGCGGTGGCTCACGCCTGTAAT\n",
      "GGCGCGGTGGCTCACGCCTGTAAT\n",
      "\n",
      "724927\n",
      "1\n",
      "GGCGCGGTGGCTCACGCCTGTAAT\n",
      "GGCACGGTGGCTCACGCCTGTAAT\n",
      "\n",
      "56922\n",
      "0\n",
      "GGCGCGGTGGCTCACGCCTGTAAT\n",
      "GGCGCGGTGGCTCACGCCTGTAAT\n",
      "\n",
      "84641\n",
      "1\n",
      "GGCGCGGTGGCTCACGCCTGTAAT\n",
      "GGCGCGGTGGCTCATGCCTGTAAT\n",
      "\n",
      "147558\n",
      "1\n",
      "GGCGCGGTGGCTCACGCCTGTAAT\n",
      "GGCGCGGTGGCTCATGCCTGTAAT\n",
      "\n",
      "160729\n",
      "1\n",
      "GGCGCGGTGGCTCACGCCTGTAAT\n",
      "GGCGCGGTGGCTCACACCTGTAAT\n",
      "\n",
      "191452\n",
      "1\n",
      "GGCGCGGTGGCTCACGCCTGTAAT\n",
      "GGCGCGGTGGTTCACGCCTGTAAT\n",
      "\n",
      "262042\n",
      "0\n",
      "GGCGCGGTGGCTCACGCCTGTAAT\n",
      "GGCGCGGTGGCTCACGCCTGTAAT\n",
      "\n",
      "273669\n",
      "1\n",
      "GGCGCGGTGGCTCACGCCTGTAAT\n",
      "GGTGCGGTGGCTCACGCCTGTAAT\n",
      "\n",
      "364263\n",
      "0\n",
      "GGCGCGGTGGCTCACGCCTGTAAT\n",
      "GGCGCGGTGGCTCACGCCTGTAAT\n",
      "\n",
      "421221\n",
      "2\n",
      "GGCGCGGTGGCTCACGCCTGTAAT\n",
      "GGCGCAATGGCTCACGCCTGTAAT\n",
      "\n",
      "429299\n",
      "1\n",
      "GGCGCGGTGGCTCACGCCTGTAAT\n",
      "AGCGCGGTGGCTCACGCCTGTAAT\n",
      "\n",
      "465647\n",
      "1\n",
      "GGCGCGGTGGCTCACGCCTGTAAT\n",
      "GGCGCAGTGGCTCACGCCTGTAAT\n",
      "\n",
      "551134\n",
      "2\n",
      "GGCGCGGTGGCTCACGCCTGTAAT\n",
      "GGGCCGGTGGCTCACGCCTGTAAT\n",
      "\n",
      "635931\n",
      "2\n",
      "GGCGCGGTGGCTCACGCCTGTAAT\n",
      "GGTGCGGTGGCTCATGCCTGTAAT\n",
      "\n",
      "657496\n",
      "0\n",
      "GGCGCGGTGGCTCACGCCTGTAAT\n",
      "GGCGCGGTGGCTCACGCCTGTAAT\n",
      "\n",
      "681737\n",
      "1\n",
      "GGCGCGGTGGCTCACGCCTGTAAT\n",
      "GGCGCGGTGGCTCATGCCTGTAAT\n",
      "\n",
      "717706\n",
      "0\n",
      "GGCGCGGTGGCTCACGCCTGTAAT\n",
      "GGCGCGGTGGCTCACGCCTGTAAT\n",
      "\n",
      "724927\n",
      "1\n",
      "GGCGCGGTGGCTCACGCCTGTAAT\n",
      "GGCACGGTGGCTCACGCCTGTAAT\n",
      "\n",
      "747359\n",
      "2\n",
      "GGCGCGGTGGCTCACGCCTGTAAT\n",
      "GGCGTGGTGGTTCACGCCTGTAAT\n",
      "\n",
      "90\n",
      "19\n"
     ]
    }
   ],
   "source": [
    "import re\n",
    "from math import ceil\n",
    "\n",
    "def approximate_match(index, p, t, n):\n",
    "    \"\"\"\n",
    "    index - 8-mer index\n",
    "    p     - pattern\n",
    "    t     - text\n",
    "    n     - number of possible mismatches \n",
    "    \"\"\"\n",
    "    if index.k != 8:\n",
    "        raise ValueError(\"index must be 8-mer\")\n",
    "    if (len(p) % 8) != 0:\n",
    "        raise ValueError(\"the lengths of p should be factor of 8\")\n",
    "\n",
    "    segment_length = int(len(p) / (n + 1.))\n",
    "    all_matches = set()\n",
    "    hits = set()\n",
    "    for i in range(n + 1):\n",
    "        start = i * segment_length\n",
    "        end = start + segment_length\n",
    "        matches = index.query(p[start:end])\n",
    "        hits.update(matches)\n",
    "        for m in matches:\n",
    "            if (m < start) or (m - start + len(p)) > len(t):\n",
    "                continue\n",
    "            mismatches = 0\n",
    "            for j in range(0, start):\n",
    "                if p[j] != t[m - start + j]:\n",
    "                    mismatches += 1\n",
    "                    if mismatches > n:\n",
    "                        break\n",
    "            for j in range(end, len(p)):\n",
    "                if p[j] != t[m - start + j]:\n",
    "                    mismatches += 1\n",
    "                    if mismatches > n:\n",
    "                        break   \n",
    "            if mismatches <= n:\n",
    "                print m - start\n",
    "                print mismatches\n",
    "                print p\n",
    "                print t[m - start:m - start + len(p)]\n",
    "                print\n",
    "                all_matches.add(m - start)  \n",
    "    print len(hits)\n",
    "    return all_matches\n",
    "\n",
    "# 90\n",
    "print len(approximate_match(index, 'GGCGCGGTGGCTCACGCCTGTAAT', chr1, 2))\n"
   ]
  },
  {
   "cell_type": "code",
   "execution_count": 109,
   "metadata": {},
   "outputs": [],
   "source": [
    "import bisect\n",
    "   \n",
    "class SubseqIndex(object):\n",
    "    \"\"\" Holds a subsequence index for a text T \"\"\"\n",
    "    \n",
    "    def __init__(self, t, k, ival):\n",
    "        \"\"\" Create index from all subsequences consisting of k characters\n",
    "            spaced ival positions apart.  E.g., SubseqIndex(\"ATAT\", 2, 2)\n",
    "            extracts (\"AA\", 0) and (\"TT\", 1). \"\"\"\n",
    "        self.k = k  # num characters per subsequence extracted\n",
    "        self.ival = ival  # space between them; 1=adjacent, 2=every other, etc\n",
    "        self.index = []\n",
    "        self.span = 1 + ival * (k - 1)\n",
    "        for i in range(len(t) - self.span + 1):  # for each subseq\n",
    "            self.index.append((t[i:i+self.span:ival], i))  # add (subseq, offset)\n",
    "        self.index.sort()  # alphabetize by subseq\n",
    "    \n",
    "    def query(self, subseq):\n",
    "        \"\"\" Return index hits for first subseq of p \"\"\"\n",
    "#         subseq = p[:self.span:self.ival]  # query with first subseq\n",
    "        i = bisect.bisect_left(self.index, (subseq, -1))  # binary search\n",
    "        hits = []\n",
    "        while i < len(self.index):  # collect matching index entries\n",
    "            if self.index[i][0] != subseq:\n",
    "                break\n",
    "            hits.append(self.index[i][1])\n",
    "            i += 1\n",
    "        return hits"
   ]
  },
  {
   "cell_type": "code",
   "execution_count": 110,
   "metadata": {},
   "outputs": [],
   "source": [
    "sindex = SubseqIndex(chr1, 8, 3)"
   ]
  },
  {
   "cell_type": "code",
   "execution_count": 113,
   "metadata": {},
   "outputs": [
    {
     "name": "stdout",
     "output_type": "stream",
     "text": [
      "79\n"
     ]
    }
   ],
   "source": [
    "p = 'GGCGCGGTGGCTCACGCCTGTAAT'\n",
    "span = 22\n",
    "hits = set()\n",
    "for i in range(len(p) - span + 1):\n",
    "    subseq = p[i:i+span:3]\n",
    "    matches = sindex.query(subseq)\n",
    "    hits.update(matches)\n",
    "\n",
    "print len(hits)\n"
   ]
  }
 ],
 "metadata": {
  "kernelspec": {
   "display_name": "Python 2",
   "language": "python",
   "name": "python2"
  },
  "language_info": {
   "codemirror_mode": {
    "name": "ipython",
    "version": 2
   },
   "file_extension": ".py",
   "mimetype": "text/x-python",
   "name": "python",
   "nbconvert_exporter": "python",
   "pygments_lexer": "ipython2",
   "version": "2.7.10"
  }
 },
 "nbformat": 4,
 "nbformat_minor": 2
}
